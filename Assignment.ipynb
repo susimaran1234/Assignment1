{
 "cells": [
  {
   "cell_type": "markdown",
   "id": "7243793e",
   "metadata": {},
   "source": [
    "# sample mean "
   ]
  },
  {
   "cell_type": "code",
   "execution_count": 1,
   "id": "1fc4404a",
   "metadata": {},
   "outputs": [
    {
     "name": "stdout",
     "output_type": "stream",
     "text": [
      "Sample Mean (Point Estimate): 35.0\n"
     ]
    }
   ],
   "source": [
    "def calculate_sample_mean(data):\n",
    "    # Function to calculate the sample mean of a given dataset\n",
    "\n",
    "    # Check if the input data is empty\n",
    "    if not data:\n",
    "        raise ValueError(\"Input data is empty. Cannot calculate sample mean.\")\n",
    "\n",
    "    # Calculate the sample mean\n",
    "    sample_mean = sum(data) / len(data)\n",
    "\n",
    "    # Return the calculated sample mean\n",
    "    return sample_mean\n",
    "\n",
    "# Example usage: providing a sample dataset\n",
    "sample_data = [25, 30, 35, 40, 45]\n",
    "\n",
    "# Calculate the sample mean using the defined function\n",
    "point_estimate = calculate_sample_mean(sample_data)\n",
    "\n",
    "# Print the result\n",
    "print(f\"Sample Mean (Point Estimate): {point_estimate}\")\n"
   ]
  },
  {
   "cell_type": "code",
   "execution_count": 2,
   "id": "b1eef090",
   "metadata": {},
   "outputs": [
    {
     "data": {
      "text/plain": [
       "35.0"
      ]
     },
     "execution_count": 2,
     "metadata": {},
     "output_type": "execute_result"
    }
   ],
   "source": [
    "calculate_sample_mean(sample_data)"
   ]
  },
  {
   "cell_type": "markdown",
   "id": "e89e2eb2",
   "metadata": {},
   "source": [
    "# Confidence interval"
   ]
  },
  {
   "cell_type": "code",
   "execution_count": 3,
   "id": "e397a93c",
   "metadata": {},
   "outputs": [
    {
     "name": "stdout",
     "output_type": "stream",
     "text": [
      "Custom Confidence Interval (90.0%): [21.914181267146557, 44.08581873285344]\n"
     ]
    }
   ],
   "source": [
    "import numpy as np\n",
    "from scipy import stats\n",
    "\n",
    "def calculate_custom_confidence_interval(custom_data, custom_confidence_level=0.90):\n",
    "    \n",
    "    if not custom_data:\n",
    "        raise ValueError(\"Input data is empty. Cannot calculate confidence interval.\")\n",
    "\n",
    "    custom_mean = np.mean(custom_data)\n",
    "    custom_std_error = stats.sem(custom_data)\n",
    "\n",
    "    custom_df = len(custom_data) - 1\n",
    "\n",
    "    custom_t_value = stats.t.ppf((1 + custom_confidence_level) / 2, custom_df)\n",
    "    custom_margin_of_error = custom_t_value * custom_std_error\n",
    "\n",
    "    custom_lower_bound = custom_mean - custom_margin_of_error\n",
    "    custom_upper_bound = custom_mean + custom_margin_of_error\n",
    "\n",
    "    return custom_lower_bound, custom_upper_bound\n",
    "\n",
    "# Example with modified data and variable names\n",
    "custom_data = [18, 22, 28, 35, 40, 55]\n",
    "custom_confidence_level = 0.90\n",
    "custom_lower, custom_upper = calculate_custom_confidence_interval(custom_data, custom_confidence_level)\n",
    "\n",
    "print(f\"Custom Confidence Interval ({custom_confidence_level*100}%): [{custom_lower}, {custom_upper}]\")\n"
   ]
  },
  {
   "cell_type": "markdown",
   "id": "147e3682",
   "metadata": {},
   "source": [
    "# T-test"
   ]
  },
  {
   "cell_type": "code",
   "execution_count": 4,
   "id": "f8034613",
   "metadata": {},
   "outputs": [
    {
     "name": "stdout",
     "output_type": "stream",
     "text": [
      "Modified T-test Results:\n",
      "Modified T-statistic: -2.185741867269443\n",
      "Modified P-value: 0.033744890915334155\n",
      "Fail to reject the null hypothesis. There is no significant difference between the means of the two groups.\n"
     ]
    }
   ],
   "source": [
    "import numpy as np\n",
    "from scipy import stats\n",
    "\n",
    "np.random.seed(123)  # Change the seed for reproducibility\n",
    "modified_group1 = np.random.normal(loc=72, scale=6, size=25)\n",
    "modified_group2 = np.random.normal(loc=78, scale=6, size=25)\n",
    "\n",
    "modified_t_statistic, modified_p_value = stats.ttest_ind(modified_group1, modified_group2)\n",
    "\n",
    "modified_alpha = 0.01  # Change the significance level\n",
    "\n",
    "print(\"Modified T-test Results:\")\n",
    "print(\"Modified T-statistic:\", modified_t_statistic)\n",
    "print(\"Modified P-value:\", modified_p_value)\n",
    "\n",
    "if modified_p_value < modified_alpha:\n",
    "    print(\"Reject the null hypothesis. There is a significant difference between the means of the two groups.\")\n",
    "else:\n",
    "    print(\"Fail to reject the null hypothesis. There is no significant difference between the means of the two groups.\")\n"
   ]
  },
  {
   "cell_type": "markdown",
   "id": "b4c24f31",
   "metadata": {},
   "source": [
    "# tailed Test"
   ]
  },
  {
   "cell_type": "code",
   "execution_count": 5,
   "id": "88c1de6b",
   "metadata": {},
   "outputs": [
    {
     "name": "stdout",
     "output_type": "stream",
     "text": [
      "Modified Two-tailed Test:\n",
      "Modified T-statistic: 0.3465468933768124\n",
      "Modified P-value: 0.7329499166849136\n",
      "\n",
      "Modified One-tailed Test (Right-tailed):\n",
      "Modified T-statistic: 0.3465468933768124\n",
      "Modified P-value: 0.3664749583424568\n",
      "\n",
      "Modified One-tailed Test (Left-tailed):\n",
      "Modified T-statistic: 0.3465468933768124\n",
      "Modified P-value: 0.6335250416575433\n"
     ]
    }
   ],
   "source": [
    "import numpy as np\n",
    "from scipy import stats\n",
    "\n",
    "modified_group1 = np.array([18, 22, 26, 28, 30, 33, 36, 38, 41, 44])\n",
    "modified_group2 = np.array([16, 20, 24, 28, 30, 32, 35, 37, 39, 42])\n",
    "\n",
    "modified_t_statistic_2tail, modified_p_value_2tail = stats.ttest_ind(modified_group1, modified_group2)\n",
    "\n",
    "modified_t_statistic_1tail_right, modified_p_value_1tail_right = stats.ttest_ind(modified_group1, modified_group2, alternative='greater')\n",
    "\n",
    "modified_t_statistic_1tail_left, modified_p_value_1tail_left = stats.ttest_ind(modified_group1, modified_group2, alternative='less')\n",
    "\n",
    "print(\"Modified Two-tailed Test:\")\n",
    "print(\"Modified T-statistic:\", modified_t_statistic_2tail)\n",
    "print(\"Modified P-value:\", modified_p_value_2tail)\n",
    "\n",
    "print(\"\\nModified One-tailed Test (Right-tailed):\")\n",
    "print(\"Modified T-statistic:\", modified_t_statistic_1tail_right)\n",
    "print(\"Modified P-value:\", modified_p_value_1tail_right)\n",
    "\n",
    "print(\"\\nModified One-tailed Test (Left-tailed):\")\n",
    "print(\"Modified T-statistic:\", modified_t_statistic_1tail_left)\n",
    "print(\"Modified P-value:\", modified_p_value_1tail_left)\n"
   ]
  },
  {
   "cell_type": "code",
   "execution_count": null,
   "id": "c5a2af71",
   "metadata": {},
   "outputs": [],
   "source": []
  }
 ],
 "metadata": {
  "kernelspec": {
   "display_name": "Python 3 (ipykernel)",
   "language": "python",
   "name": "python3"
  },
  "language_info": {
   "codemirror_mode": {
    "name": "ipython",
    "version": 3
   },
   "file_extension": ".py",
   "mimetype": "text/x-python",
   "name": "python",
   "nbconvert_exporter": "python",
   "pygments_lexer": "ipython3",
   "version": "3.11.5"
  }
 },
 "nbformat": 4,
 "nbformat_minor": 5
}
